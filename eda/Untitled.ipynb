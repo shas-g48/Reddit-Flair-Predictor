{
 "cells": [
  {
   "cell_type": "code",
   "execution_count": 88,
   "metadata": {},
   "outputs": [],
   "source": [
    "# imports\n",
    "import pandas as pd\n",
    "import matplotlib.pyplot as plt\n",
    "import numpy as np\n",
    "import string"
   ]
  },
  {
   "cell_type": "code",
   "execution_count": 70,
   "metadata": {},
   "outputs": [
    {
     "name": "stdout",
     "output_type": "stream",
     "text": [
      "{'flair': 'Non-Political', 'title': 'Mumbai man cycling to J K home gets a lift in truck CRPF airlifts ailing father to hospital', 'selftext': '', 'date': '2020-04-08 15:24:08', 'c1': '', 'c2': '', 'c3': '', 'sub_id': 'fx3q5b', 'date_raw': 1586339648, 'permalink': 'https://www.reddit.com/r/india/comments/fx3q5b/mumbai_man_cycling_to_jk_home_gets_a_lift_in/'}\n",
      "{'flair': 'Coronavirus', 'title': 'Wearing Masks compulsory in Mumbai or get arrested under section of IPC OF', 'selftext': '', 'date': '2020-04-08 15:14:20', 'c1': '', 'c2': '', 'c3': '', 'sub_id': 'fx3ls0', 'date_raw': 1586339060, 'permalink': 'https://www.reddit.com/r/india/comments/fx3ls0/wearing_masks_compulsory_in_mumbai_or_get/'}\n",
      "{'flair': 'Coronavirus', 'title': 'PM Modi Lifting Coronavirus lockdown does not seem possible', 'selftext': '', 'date': '2020-04-08 15:09:41', 'c1': 'Awesome get ready for another pointless cringey national flashmob to entertain the chaddi pied piper', 'c2': 'I am worried about street cart vendors daily wage labours poor families it ’ s going to be a living hell for them May God gives them help and courage This moron will not move his fingers for help', 'c3': '', 'sub_id': 'fx3juh', 'date_raw': 1586338781, 'permalink': 'https://www.reddit.com/r/india/comments/fx3juh/pm_modi_lifting_coronavirus_lockdown_does_not/'}\n"
     ]
    }
   ],
   "source": [
    "# data loader\n",
    "data_arr = []\n",
    "with open('data2.txt', 'r') as f:\n",
    "    \n",
    "    i = 0\n",
    "    entry = dict()\n",
    "    columns = ['flair', 'title', 'selftext', 'date', 'c1', 'c2', 'c3', 'sub_id', 'date_raw', 'permalink']\n",
    "    \n",
    "    # read file to create list of dicts\n",
    "    for line in f:\n",
    "        if i == 8:\n",
    "            entry[columns[i]] = int(line[:-3])\n",
    "        else:\n",
    "            entry[columns[i]] = line[:-1]\n",
    "        i+=1\n",
    "        # end of one entry\n",
    "        if i == 10:\n",
    "            data_arr.append(entry)\n",
    "            entry = dict()\n",
    "            i = 0\n",
    "# To check loaded data\n",
    "print(data_arr[0])\n",
    "print(data_arr[1])\n",
    "print(data_arr[2])"
   ]
  },
  {
   "cell_type": "code",
   "execution_count": 71,
   "metadata": {},
   "outputs": [
    {
     "data": {
      "text/html": [
       "<div>\n",
       "<style scoped>\n",
       "    .dataframe tbody tr th:only-of-type {\n",
       "        vertical-align: middle;\n",
       "    }\n",
       "\n",
       "    .dataframe tbody tr th {\n",
       "        vertical-align: top;\n",
       "    }\n",
       "\n",
       "    .dataframe thead th {\n",
       "        text-align: right;\n",
       "    }\n",
       "</style>\n",
       "<table border=\"1\" class=\"dataframe\">\n",
       "  <thead>\n",
       "    <tr style=\"text-align: right;\">\n",
       "      <th></th>\n",
       "      <th>c1</th>\n",
       "      <th>c2</th>\n",
       "      <th>c3</th>\n",
       "      <th>date</th>\n",
       "      <th>date_raw</th>\n",
       "      <th>flair</th>\n",
       "      <th>permalink</th>\n",
       "      <th>selftext</th>\n",
       "      <th>sub_id</th>\n",
       "      <th>title</th>\n",
       "    </tr>\n",
       "  </thead>\n",
       "  <tbody>\n",
       "    <tr>\n",
       "      <th>0</th>\n",
       "      <td></td>\n",
       "      <td></td>\n",
       "      <td></td>\n",
       "      <td>2020-04-08 15:24:08</td>\n",
       "      <td>1586339648</td>\n",
       "      <td>Non-Political</td>\n",
       "      <td>https://www.reddit.com/r/india/comments/fx3q5b...</td>\n",
       "      <td></td>\n",
       "      <td>fx3q5b</td>\n",
       "      <td>Mumbai man cycling to J K home gets a lift in ...</td>\n",
       "    </tr>\n",
       "    <tr>\n",
       "      <th>1</th>\n",
       "      <td></td>\n",
       "      <td></td>\n",
       "      <td></td>\n",
       "      <td>2020-04-08 15:14:20</td>\n",
       "      <td>1586339060</td>\n",
       "      <td>Coronavirus</td>\n",
       "      <td>https://www.reddit.com/r/india/comments/fx3ls0...</td>\n",
       "      <td></td>\n",
       "      <td>fx3ls0</td>\n",
       "      <td>Wearing Masks compulsory in Mumbai or get arre...</td>\n",
       "    </tr>\n",
       "    <tr>\n",
       "      <th>2</th>\n",
       "      <td>Awesome get ready for another pointless cringe...</td>\n",
       "      <td>I am worried about street cart vendors daily w...</td>\n",
       "      <td></td>\n",
       "      <td>2020-04-08 15:09:41</td>\n",
       "      <td>1586338781</td>\n",
       "      <td>Coronavirus</td>\n",
       "      <td>https://www.reddit.com/r/india/comments/fx3juh...</td>\n",
       "      <td></td>\n",
       "      <td>fx3juh</td>\n",
       "      <td>PM Modi Lifting Coronavirus lockdown does not ...</td>\n",
       "    </tr>\n",
       "    <tr>\n",
       "      <th>3</th>\n",
       "      <td></td>\n",
       "      <td></td>\n",
       "      <td></td>\n",
       "      <td>2020-04-08 15:07:28</td>\n",
       "      <td>1586338648</td>\n",
       "      <td>AskIndia</td>\n",
       "      <td>https://www.reddit.com/r/india/comments/fx3iyn...</td>\n",
       "      <td>I am stuck here in Noida and I have to go to H...</td>\n",
       "      <td>fx3iyn</td>\n",
       "      <td>People who are traveling in lockdown</td>\n",
       "    </tr>\n",
       "    <tr>\n",
       "      <th>4</th>\n",
       "      <td></td>\n",
       "      <td></td>\n",
       "      <td></td>\n",
       "      <td>2020-04-08 15:07:22</td>\n",
       "      <td>1586338642</td>\n",
       "      <td>Coronavirus</td>\n",
       "      <td>https://www.reddit.com/r/india/comments/fx3ixa...</td>\n",
       "      <td></td>\n",
       "      <td>fx3ixa</td>\n",
       "      <td>Amartya Sen writes Overcoming a pandemic may l...</td>\n",
       "    </tr>\n",
       "  </tbody>\n",
       "</table>\n",
       "</div>"
      ],
      "text/plain": [
       "                                                  c1  \\\n",
       "0                                                      \n",
       "1                                                      \n",
       "2  Awesome get ready for another pointless cringe...   \n",
       "3                                                      \n",
       "4                                                      \n",
       "\n",
       "                                                  c2 c3                 date  \\\n",
       "0                                                        2020-04-08 15:24:08   \n",
       "1                                                        2020-04-08 15:14:20   \n",
       "2  I am worried about street cart vendors daily w...     2020-04-08 15:09:41   \n",
       "3                                                        2020-04-08 15:07:28   \n",
       "4                                                        2020-04-08 15:07:22   \n",
       "\n",
       "     date_raw          flair  \\\n",
       "0  1586339648  Non-Political   \n",
       "1  1586339060    Coronavirus   \n",
       "2  1586338781    Coronavirus   \n",
       "3  1586338648       AskIndia   \n",
       "4  1586338642    Coronavirus   \n",
       "\n",
       "                                           permalink  \\\n",
       "0  https://www.reddit.com/r/india/comments/fx3q5b...   \n",
       "1  https://www.reddit.com/r/india/comments/fx3ls0...   \n",
       "2  https://www.reddit.com/r/india/comments/fx3juh...   \n",
       "3  https://www.reddit.com/r/india/comments/fx3iyn...   \n",
       "4  https://www.reddit.com/r/india/comments/fx3ixa...   \n",
       "\n",
       "                                            selftext  sub_id  \\\n",
       "0                                                     fx3q5b   \n",
       "1                                                     fx3ls0   \n",
       "2                                                     fx3juh   \n",
       "3  I am stuck here in Noida and I have to go to H...  fx3iyn   \n",
       "4                                                     fx3ixa   \n",
       "\n",
       "                                               title  \n",
       "0  Mumbai man cycling to J K home gets a lift in ...  \n",
       "1  Wearing Masks compulsory in Mumbai or get arre...  \n",
       "2  PM Modi Lifting Coronavirus lockdown does not ...  \n",
       "3               People who are traveling in lockdown  \n",
       "4  Amartya Sen writes Overcoming a pandemic may l...  "
      ]
     },
     "execution_count": 71,
     "metadata": {},
     "output_type": "execute_result"
    }
   ],
   "source": [
    "# see the head of the data\n",
    "df = pd.DataFrame(data_arr)\n",
    "df.head()"
   ]
  },
  {
   "cell_type": "code",
   "execution_count": 72,
   "metadata": {},
   "outputs": [
    {
     "data": {
      "text/plain": [
       "'\\nDatatype:\\ntitle: text\\nselftext: text\\npermalink: html link\\nflair:  text\\ndate_raw: int (unix timestamp)\\ndate: date\\nc1,c2,c3: top level comment 1, 2 and 3 of type text\\n'"
      ]
     },
     "execution_count": 72,
     "metadata": {},
     "output_type": "execute_result"
    }
   ],
   "source": [
    "# Information got:\n",
    "\"\"\"\n",
    "Datatype:\n",
    "title: text\n",
    "selftext: text\n",
    "permalink: html link\n",
    "flair:  text\n",
    "date_raw: int (unix timestamp)\n",
    "date: date\n",
    "c1,c2,c3: top level comment 1, 2 and 3 of type text\n",
    "\"\"\""
   ]
  },
  {
   "cell_type": "code",
   "execution_count": 73,
   "metadata": {},
   "outputs": [
    {
     "name": "stdout",
     "output_type": "stream",
     "text": [
      "['Non-Political' 'Coronavirus' 'AskIndia' 'Policy/Economy' 'Photography'\n",
      " 'Politics' 'Business/Finance' 'Science/Technology' 'Scheduled' 'Sports'\n",
      " '| Repost |' 'Food' 'Unverified' 'CAA-NRC-NPR' 'Megathread' 'Meta.'\n",
      " '| Unverified Content / Disreputed Source |' '| Social Media Rules |'\n",
      " 'Policy/Economy [Megathread]' 'Politics [Megathread]' 'Opinion'\n",
      " 'AMA has Ended' 'Shitpost' 'Demonetization' '| Custom (Informed OP) |'\n",
      " 'CAA-NRC' 'PARTAYYY AGAIN :D' 'Unverified - NSFL' 'Happy Birthday OP!'\n",
      " '| Stickied Topic |' 'Repost' '| Not specific to India |' 'Verified '\n",
      " 'Politics [18 Dec 2019]' 'None' 'Announcement' 'AMA Announcement' 'DST'\n",
      " '| Not in English | | Not Original/Relevant Title |'\n",
      " 'Politics [Aug 2009]' 'AMA' 'AMA / Unverified'\n",
      " \"Politics (word is: 'azadi')\" '| Not in English |' 'Foodpolitics'\n",
      " 'Casual AMA' 'Aug 2019 - Politics' 'Politics - Old' 'Moderated'\n",
      " 'AMA has ended' 'Politics (Translation in comments)'\n",
      " 'Politics [Very Graphic]' 'Source in comments' 'AskIndia - DST'\n",
      " 'Megathread (multiple reposts)' 'English Title in comments'\n",
      " 'Meta. | Low-effort Self Post |' 'OC' '| Self-promotion |'\n",
      " 'Low Quality/Non OC Meme'\n",
      " '| Not specific to India | | Not Original/Relevant Title |'\n",
      " '| Personal/Unverified Social Media |' '| Not Original/Relevant Title |'\n",
      " '| [OLD] Content |' '| Image Rule Violation |'\n",
      " '| Not specific to India | Not Appropriate Subreddit'\n",
      " '| Image Rule Violation | Low Quality/Non OC Meme'\n",
      " '| Not Original/Relevant Title | | Repost |'\n",
      " '| Image Rule Violation | | Personal/Unverified Social Media |'\n",
      " '| Low-effort Self Post |' '| TIL Rule Violation |' 'All CAPS.'\n",
      " '| Witch-hunting/Targeting User |' 'Policy/Economy -2017 Article '\n",
      " '| Image Rule Violation | Post link Directly'\n",
      " '| Not Original/Relevant Title | Low Quality/Non OC Meme'\n",
      " '| Self-promotion | | Personal/Unverified Social Media |' 'Hello'\n",
      " '| Not Original/Relevant Title | | [OLD] Content |'\n",
      " '| Not specific to India | Low Quality/Non OC Meme'\n",
      " '| Not Original/Relevant Title | | Stickied Topic |' 'Misleading'\n",
      " '| Not specific to India | | Personal/Unverified Social Media |'\n",
      " 'Post link Directly' '| Image Rule Violation | | Low-effort Self Post |'\n",
      " '| Not Original/Relevant Title | Meta.'\n",
      " '| Not specific to India | | Custom (Informed OP) |'\n",
      " '| Not Original/Relevant Title | | Image Rule Violation |'\n",
      " '| Not in English | | Unverified Content / Disreputed Source |'\n",
      " '| Unverified Content / Disreputed Source | Shitpost' 'Edited Title'\n",
      " '| Image Rule Violation | Shitpost'\n",
      " '| Self-promotion | | Unverified Content / Disreputed Source |'\n",
      " 'Dead Link' '| Image Rule Violation | | Custom (Informed OP) |'\n",
      " '| Not Original/Relevant Title | | TIL Rule Violation |'\n",
      " 'Politics - Title Changed by NDTV' 'Non-Political '\n",
      " '| Repost | | Custom (Informed OP) |' 'Old'\n",
      " '| Not in English | | Personal/Unverified Social Media |'\n",
      " '| Unverified Content / Disreputed Source | Post link Directly'\n",
      " '| Not specific to India | | Image Rule Violation |' '[R]eddiquette'\n",
      " '| Image Rule Violation | | Stickied Topic |' '| Personal Info |'\n",
      " 'Illegal Content' '| Not Original/Relevant Title | Post link Directly'\n",
      " 'Not Original Title' '| Custom (Informed OP) | Dead Link'\n",
      " '| Personal/Unverified Social Media | Low Quality/Non OC Meme'\n",
      " '| Not in English | Low Quality/Non OC Meme'\n",
      " '| Custom (Informed OP) | Post link Directly'\n",
      " '| Not Original/Relevant Title | | Custom (Informed OP) |'\n",
      " '| Not Original/Relevant Title | | Low-effort Self Post |'\n",
      " '| Personal/Unverified Social Media | | Repost |'\n",
      " 'Not Appropriate Subreddit'\n",
      " '| Not specific to India | | TIL Rule Violation |'\n",
      " '| Unverified Content / Disreputed Source | | [OLD] Content |'\n",
      " 'Personal twitter || Not in English' '| Repost | | Stickied Topic |'\n",
      " 'Self Promotion' '| Not in English | | Image Rule Violation |'\n",
      " '| Unverified Content / Disreputed Source | | Repost |'\n",
      " 'Image Submission Rule Violation' 'Official Sadness Thread'\n",
      " 'NSFL / Injury' 'Meta. | Custom (Informed OP) |' '| NSFW/Gore |'\n",
      " '| Personal Info | | Unverified Content / Disreputed Source |' 'Meta'\n",
      " 'Global Reddit Meetup Day' 'Edited Title '\n",
      " '| Not in English | | Self-promotion |'\n",
      " '| Not specific to India | | Not in English |' 'Spam' 'Not About India '\n",
      " '| Personal Info | | Personal/Unverified Social Media |' 'NSFL'\n",
      " 'Low Effort ' '🍿 100,000,000 🍿' 'NSFL - Deaths Warning'\n",
      " '| Self-promotion | | Stickied Topic |' 'Happy Birthday! 🎂'\n",
      " '| Unverified Content / Disreputed Source | | Stickied Topic |'\n",
      " '| Self-promotion | | Image Rule Violation |'\n",
      " '| Image Rule Violation | | [OLD] Content |' 'Self Promotion '\n",
      " 'Not in English.' '| Not specific to India | | Self-promotion |'\n",
      " 'Spammer' 'Not Specifically About India ' 'SPOILERS' 'Not Reputed Source'\n",
      " '| Personal Info | | Image Rule Violation |'\n",
      " 'Low Effort /Personal Information ' 'Translation in Comments'\n",
      " 'Low Effort Political Image ' 'Low Effort'\n",
      " '| Personal Info | | Not Original/Relevant Title |' 'NO SPOILERS PLEASE'\n",
      " 'Not Original Title ' 'Meta. | Repost |'\n",
      " '| Not in English | | Repost | Low Quality/Non OC Meme'\n",
      " '| [OLD] Content | | Repost |'\n",
      " '| Low-effort Self Post | Low Quality/Non OC Meme'\n",
      " '| Not in English | | Not Original/Relevant Title | Shitpost'\n",
      " 'Scenic Image Rule' 'AskAAI'\n",
      " '| Low-effort Self Post | | Custom (Informed OP) |'\n",
      " '| Not in English | | Custom (Informed OP) |'\n",
      " '| Personal/Unverified Social Media | Dead Link'\n",
      " '| Personal/Unverified Twitter |' 'AMA is over'\n",
      " '| Not Original/Relevant Title | | Personal/Unverified Twitter |'\n",
      " 'Low Effort Image' '| Not in English | Shitpost'\n",
      " '| Personal/Unverified Twitter | Low Quality/Non OC Meme'\n",
      " 'Science & Technology' 'Debunked' 'AMA Concluded' 'Self promotion'\n",
      " 'Annoucement' 'Padhai kar le bhai. Good luck! 👍' ' (=｀ェ´=)'\n",
      " 'Softwaregore' 'Sticky' 'Sticky /Repost'\n",
      " '| Not specific to India | | Stickied Topic |'\n",
      " '| [OLD] Content | Post link Directly'\n",
      " '| Not in English | | Personal/Unverified Twitter |'\n",
      " '| Personal/Unverified Twitter | | Stickied Topic |' 'Shitpost.'\n",
      " '40 Martyrs' 'Translation given in comments'\n",
      " 'Misleading, see sticky comment.' 'Personal Twitter ' 'Self-promotion'\n",
      " '| Personal/Unverified Twitter | | [OLD] Content |' 'Music' 'Repost '\n",
      " '| Personal Info | | Personal/Unverified Twitter |' 'Not about India.'\n",
      " '| Custom (Informed OP) | Shitpost' 'Repost.'\n",
      " '| Not in English | Low Quality Meme' 'Low Quality Meme'\n",
      " 'Not related to India.' 'Not original title.' 'Not original title. '\n",
      " '| Not specific to India | | Repost |' 'Meta. Low Quality Meme'\n",
      " 'Image Rule' 'Repost, Personal twitter.' 'Image Rule '\n",
      " '| Not specific to India | | Personal/Unverified Twitter |' '| Meme |'\n",
      " 'Old content.' 'PSA' '| Not Original/Relevant Title | Low Quality Meme'\n",
      " '| Not specific to India | | Personal Info |'\n",
      " '| Misleading | Sensationalized | Clickbait' 'Shitpost Low Quality Meme'\n",
      " '| Not Original/Relevant Title | | Meme |'\n",
      " '| Not specific to India | Dead Link'\n",
      " '| Unverified Content / Disreputed Source | | Meme |'\n",
      " 'Unverified Content / Disreputed Source.' 'Not Original/Relevant Title.'\n",
      " 'Custom; Informed OP.' '[OLD] Content.' 'Not specific to India.'\n",
      " 'Witch-hunting/Targeting User. Not Original/Relevant Title.'\n",
      " 'Low effort meme/image' 'Self-promotion.' 'Low-Effort Post'\n",
      " 'Unverified Content / Disreputed Source. Custom; Informed OP.'\n",
      " 'Not specific to India. Personal/Unverified Twitter.' 'Clickbait.'\n",
      " 'Personal/Unverified Twitter.'\n",
      " 'Not specific to India. Low effort meme/image'\n",
      " 'Not in English. Low effort meme/image'\n",
      " 'Not in English. Personal/Unverified Twitter.'\n",
      " 'Not in English. Not Original/Relevant Title.' 'Stickied Topic.'\n",
      " '[OLD] Content. Repost.' 'Politics [OC]'\n",
      " 'Not Original/Relevant Title. Repost.' 'Not OC'\n",
      " 'Self-promotion. Unverified Content / Disreputed Source.'\n",
      " 'Witch-hunting/Targeting User.'\n",
      " 'Not in English. Unverified Content / Disreputed Source.'\n",
      " 'Original Content :)' 'Low-effort Post.'\n",
      " 'Not in English. Low-effort Post.'\n",
      " 'Not Original/Relevant Title. Personal/Unverified Twitter.'\n",
      " 'Not Original/Relevant Title. Low-effort Post.'\n",
      " 'Not Original/Relevant Title. Clickbait.'\n",
      " 'Not specific to India. Unverified Content / Disreputed Source.'\n",
      " 'Unverified/Misleading Source'\n",
      " 'Not specific to India. Not Original/Relevant Title.'\n",
      " 'TIL Rule Violation.' 'Low-effort Post. Repost.' 'Meta. Low-effort Post.'\n",
      " 'Not in English. Self-promotion.' 'Demonitisation LOL'\n",
      " 'Unverified Content / Disreputed Source. Repost.'\n",
      " 'Not Original/Relevant Title. [OLD] Content.'\n",
      " 'Unverified Content / Disreputed Source. [OLD] Content.'\n",
      " 'NSFW/Gore. Low-effort Post.' 'Domain Spam ' 'Personal Info.'\n",
      " 'Not OC (misuse of photography flair)' 'Meta. Custom; Informed OP.'\n",
      " 'Not Original/Relevant Title. Custom; Informed OP.'\n",
      " 'Repost. Custom; Informed OP.' 'Site altered title '\n",
      " 'Personal Info. Unverified Content / Disreputed Source.']\n",
      "277\n"
     ]
    }
   ],
   "source": [
    "# Finding types of labels\n",
    "unique_flair = df['flair'].unique()\n",
    "print(unique_flair)\n",
    "print(len(unique_flair))"
   ]
  },
  {
   "cell_type": "code",
   "execution_count": 74,
   "metadata": {},
   "outputs": [
    {
     "data": {
      "text/plain": [
       "'\\nDrop rows having invalid flairs\\n'"
      ]
     },
     "execution_count": 74,
     "metadata": {},
     "output_type": "execute_result"
    }
   ],
   "source": [
    "# Information got:\n",
    "\"\"\"\n",
    "I had checked for some kinds of post removals while scraping data,\n",
    "but a lot of extra flairs still ended in the data, need to delete rows\n",
    "containing unecessary flairs.\n",
    "Also I think that flairs with | | are obviously violation of the subreddit rules\n",
    "Flairs this will run for are (Currently valid flairs on r/india:\n",
    "Politics\n",
    "Non-Political\n",
    "AskIndia\n",
    "Policy/Economy\n",
    "Business/Finance\n",
    "Science/Technology\n",
    "Scheduled\n",
    "Sports\n",
    "Food\n",
    "Photography\n",
    "CAA-NRC-NPR\n",
    "Coronavirus\n",
    "\"\"\"\n",
    "# Action taken:\n",
    "\"\"\"\n",
    "Drop rows having invalid flairs\n",
    "\"\"\""
   ]
  },
  {
   "cell_type": "code",
   "execution_count": 83,
   "metadata": {},
   "outputs": [
    {
     "name": "stdout",
     "output_type": "stream",
     "text": [
      "['Non-Political' 'Coronavirus' 'AskIndia' 'Policy/Economy' 'Photography'\n",
      " 'Politics' 'Business/Finance' 'Science/Technology' 'Scheduled' 'Sports'\n",
      " 'Food' 'CAA-NRC-NPR']\n",
      "12\n"
     ]
    },
    {
     "data": {
      "text/html": [
       "<div>\n",
       "<style scoped>\n",
       "    .dataframe tbody tr th:only-of-type {\n",
       "        vertical-align: middle;\n",
       "    }\n",
       "\n",
       "    .dataframe tbody tr th {\n",
       "        vertical-align: top;\n",
       "    }\n",
       "\n",
       "    .dataframe thead th {\n",
       "        text-align: right;\n",
       "    }\n",
       "</style>\n",
       "<table border=\"1\" class=\"dataframe\">\n",
       "  <thead>\n",
       "    <tr style=\"text-align: right;\">\n",
       "      <th></th>\n",
       "      <th>date_raw</th>\n",
       "    </tr>\n",
       "  </thead>\n",
       "  <tbody>\n",
       "    <tr>\n",
       "      <th>count</th>\n",
       "      <td>7.501200e+04</td>\n",
       "    </tr>\n",
       "    <tr>\n",
       "      <th>mean</th>\n",
       "      <td>1.560290e+09</td>\n",
       "    </tr>\n",
       "    <tr>\n",
       "      <th>std</th>\n",
       "      <td>1.481436e+07</td>\n",
       "    </tr>\n",
       "    <tr>\n",
       "      <th>min</th>\n",
       "      <td>1.535795e+09</td>\n",
       "    </tr>\n",
       "    <tr>\n",
       "      <th>25%</th>\n",
       "      <td>1.547279e+09</td>\n",
       "    </tr>\n",
       "    <tr>\n",
       "      <th>50%</th>\n",
       "      <td>1.559829e+09</td>\n",
       "    </tr>\n",
       "    <tr>\n",
       "      <th>75%</th>\n",
       "      <td>1.572592e+09</td>\n",
       "    </tr>\n",
       "    <tr>\n",
       "      <th>max</th>\n",
       "      <td>1.586340e+09</td>\n",
       "    </tr>\n",
       "  </tbody>\n",
       "</table>\n",
       "</div>"
      ],
      "text/plain": [
       "           date_raw\n",
       "count  7.501200e+04\n",
       "mean   1.560290e+09\n",
       "std    1.481436e+07\n",
       "min    1.535795e+09\n",
       "25%    1.547279e+09\n",
       "50%    1.559829e+09\n",
       "75%    1.572592e+09\n",
       "max    1.586340e+09"
      ]
     },
     "execution_count": 83,
     "metadata": {},
     "output_type": "execute_result"
    }
   ],
   "source": [
    "# Clean data to get only desired labels\n",
    "valid_flairs = ['Politics', 'Non-Political', 'AskIndia', 'Policy/Economy','Business/Finance','Science/Technology', 'Scheduled', 'Sports', 'Food','Photography','CAA-NRC-NPR', 'Coronavirus']\n",
    "df = df[df['flair'].isin(valid_flairs)]\n",
    "unique_flair = df['flair'].unique()\n",
    "print(unique_flair)\n",
    "print(len(unique_flair))\n",
    "df.describe()"
   ]
  },
  {
   "cell_type": "code",
   "execution_count": 76,
   "metadata": {},
   "outputs": [
    {
     "data": {
      "text/plain": [
       "c1           0\n",
       "c2           0\n",
       "c3           0\n",
       "date         0\n",
       "date_raw     0\n",
       "flair        0\n",
       "permalink    0\n",
       "selftext     0\n",
       "sub_id       0\n",
       "title        0\n",
       "dtype: int64"
      ]
     },
     "execution_count": 76,
     "metadata": {},
     "output_type": "execute_result"
    }
   ],
   "source": [
    "# Find number of null values in each column\n",
    "df.isnull().sum()"
   ]
  },
  {
   "cell_type": "code",
   "execution_count": 81,
   "metadata": {},
   "outputs": [
    {
     "name": "stdout",
     "output_type": "stream",
     "text": [
      "flair: 0 of 75012 entries\n",
      "title: 0 of 75012 entries\n",
      "selftext: 59101 of 75012 entries\n",
      "date: 0 of 75012 entries\n",
      "c1: 33263 of 75012 entries\n",
      "c2: 41781 of 75012 entries\n",
      "c3: 48198 of 75012 entries\n",
      "sub_id: 0 of 75012 entries\n",
      "date_raw: 0 of 75012 entries\n",
      "permalink: 0 of 75012 entries\n"
     ]
    },
    {
     "data": {
      "image/png": "[encoded data removed]",
      "text/plain": [
       "<Figure size 432x288 with 1 Axes>"
      ]
     },
     "metadata": {
      "needs_background": "light"
     },
     "output_type": "display_data"
    }
   ],
   "source": [
    "# find number of '' in each column\n",
    "empty_strings = dict()\n",
    "\n",
    "for i in columns:\n",
    "    empty_strings[i] = (df[i] == '').sum()\n",
    "\n",
    "# pretty print the result\n",
    "for i in empty_strings:\n",
    "    print(i, end=\": \")\n",
    "    print(empty_strings[i], end=\"\")\n",
    "    print(\" of {} entries\".format(df.shape[0]))\n",
    "    \n",
    "# Plot the result as a bar chart\n",
    "values = [empty_strings[x] for x in columns]\n",
    "plt.bar(np.arange(len(columns)), values)\n",
    "plt.xticks(np.arange(len(columns)), columns, rotation=90)\n",
    "plt.show()"
   ]
  },
  {
   "cell_type": "code",
   "execution_count": 78,
   "metadata": {},
   "outputs": [
    {
     "data": {
      "text/plain": [
       "'\\n1. Remove all rows having no title\\n'"
      ]
     },
     "execution_count": 78,
     "metadata": {},
     "output_type": "execute_result"
    }
   ],
   "source": [
    "# Information got:\n",
    "\"\"\"\n",
    "1. some titles are empty, this has happened due to processing text while scraping:\n",
    "The title may have been purely numeric,\n",
    "it can also be just a html link,\n",
    "a username, or a subreddit name,\n",
    "or just special characters:\n",
    "the title had not alphabets\n",
    "2. A lot of selftext is empty, this can be due to:\n",
    "Only a image, html link as the body,\n",
    "no alphabets in the post\n",
    "3. Number of empty top level comments follow expected pattern\n",
    "number of empty: top level 1 < top level 2 < top level 3\n",
    "4. Other columns are fine\n",
    "5. While some reliance on other columns can help, title seems the most useful\n",
    "\"\"\"\n",
    "# Actions taken\n",
    "\"\"\"\n",
    "1. Remove all rows having no title\n",
    "\"\"\""
   ]
  },
  {
   "cell_type": "code",
   "execution_count": 82,
   "metadata": {},
   "outputs": [
    {
     "data": {
      "text/html": [
       "<div>\n",
       "<style scoped>\n",
       "    .dataframe tbody tr th:only-of-type {\n",
       "        vertical-align: middle;\n",
       "    }\n",
       "\n",
       "    .dataframe tbody tr th {\n",
       "        vertical-align: top;\n",
       "    }\n",
       "\n",
       "    .dataframe thead th {\n",
       "        text-align: right;\n",
       "    }\n",
       "</style>\n",
       "<table border=\"1\" class=\"dataframe\">\n",
       "  <thead>\n",
       "    <tr style=\"text-align: right;\">\n",
       "      <th></th>\n",
       "      <th>date_raw</th>\n",
       "    </tr>\n",
       "  </thead>\n",
       "  <tbody>\n",
       "    <tr>\n",
       "      <th>count</th>\n",
       "      <td>7.501200e+04</td>\n",
       "    </tr>\n",
       "    <tr>\n",
       "      <th>mean</th>\n",
       "      <td>1.560290e+09</td>\n",
       "    </tr>\n",
       "    <tr>\n",
       "      <th>std</th>\n",
       "      <td>1.481436e+07</td>\n",
       "    </tr>\n",
       "    <tr>\n",
       "      <th>min</th>\n",
       "      <td>1.535795e+09</td>\n",
       "    </tr>\n",
       "    <tr>\n",
       "      <th>25%</th>\n",
       "      <td>1.547279e+09</td>\n",
       "    </tr>\n",
       "    <tr>\n",
       "      <th>50%</th>\n",
       "      <td>1.559829e+09</td>\n",
       "    </tr>\n",
       "    <tr>\n",
       "      <th>75%</th>\n",
       "      <td>1.572592e+09</td>\n",
       "    </tr>\n",
       "    <tr>\n",
       "      <th>max</th>\n",
       "      <td>1.586340e+09</td>\n",
       "    </tr>\n",
       "  </tbody>\n",
       "</table>\n",
       "</div>"
      ],
      "text/plain": [
       "           date_raw\n",
       "count  7.501200e+04\n",
       "mean   1.560290e+09\n",
       "std    1.481436e+07\n",
       "min    1.535795e+09\n",
       "25%    1.547279e+09\n",
       "50%    1.559829e+09\n",
       "75%    1.572592e+09\n",
       "max    1.586340e+09"
      ]
     },
     "execution_count": 82,
     "metadata": {},
     "output_type": "execute_result"
    }
   ],
   "source": [
    "# Remove rows having no title\n",
    "df = df[df['title'] != '']\n",
    "df.describe()"
   ]
  },
  {
   "cell_type": "code",
   "execution_count": 80,
   "metadata": {},
   "outputs": [
    {
     "name": "stdout",
     "output_type": "stream",
     "text": [
      "Politics: 21386 of 75012\n",
      "Non-Political: 18316 of 75012\n",
      "AskIndia: 12610 of 75012\n",
      "Policy/Economy: 4264 of 75012\n",
      "Business/Finance: 7353 of 75012\n",
      "Science/Technology: 3786 of 75012\n",
      "Scheduled: 498 of 75012\n",
      "Sports: 1641 of 75012\n",
      "Food: 961 of 75012\n",
      "Photography: 2002 of 75012\n",
      "CAA-NRC-NPR: 35 of 75012\n",
      "Coronavirus: 2160 of 75012\n"
     ]
    },
    {
     "data": {
      "image/png": "[encoded data removed]",
      "text/plain": [
       "<Figure size 432x288 with 1 Axes>"
      ]
     },
     "metadata": {
      "needs_background": "light"
     },
     "output_type": "display_data"
    }
   ],
   "source": [
    "# Count no of data points under all labels\n",
    "label_count = []\n",
    "for i in valid_flairs:\n",
    "    label_count.append((df['flair'] == i).sum())\n",
    "\n",
    "# Pretty print the data\n",
    "for i, j in enumerate(valid_flairs):\n",
    "    print(\"{}: \".format(j), end='')\n",
    "    print(label_count[i], end='')\n",
    "    print(\" of {}\".format(df.shape[0]))\n",
    "    \n",
    "# Plot as bar chart\n",
    "plt.bar(np.arange(len(valid_flairs)), label_count)\n",
    "plt.xticks(np.arange(len(valid_flairs)), valid_flairs, rotation=90)\n",
    "plt.show()"
   ]
  },
  {
   "cell_type": "code",
   "execution_count": null,
   "metadata": {},
   "outputs": [],
   "source": [
    "# TODO\n",
    "# Information got:\n",
    "\"\"\"\n",
    "1. Some labels dominate the dataset while very little data is available for others\n",
    "i.e. dataset is imbalanced\n",
    "Techniques to balance the dataset need to be used\n",
    "2. Flairs other than Coronavirus, CAA-NRC-NPR and Scheduled can be boosted by \n",
    "scraping more data from the past, as Coronavirus and CAA-NRC-NPR are 'events'\n",
    "and very little data is available for flair scheduled\n",
    "3. Flair Coronavirus and CAA-NRC-NPR can be boosted by scraping newer posts\n",
    "\"\"\"\n",
    "# Action taken\n",
    "\"\"\"\n",
    "Todo: boost some labels,\n",
    "learn about methods to work with imbalanced datasets\n",
    "\"\"\""
   ]
  },
  {
   "cell_type": "code",
   "execution_count": 93,
   "metadata": {},
   "outputs": [
    {
     "name": "stdout",
     "output_type": "stream",
     "text": [
      "['flair', 'title', 'selftext', 'date', 'c1', 'c2', 'c3', 'sub_id', 'date_raw', 'permalink']\n",
      "title max:62 min:1 avg:11.638057910734283\n",
      "c1 max:1778 min:0 avg:19.288713805791073\n",
      "c2 max:1737 min:0 avg:14.44798165626833\n",
      "c3 max:1700 min:0 avg:11.167346557884072\n",
      "selftext max:4644 min:0 avg:28.53180824401429\n"
     ]
    }
   ],
   "source": [
    "# Count no of words in text columns\n",
    "print(columns)\n",
    "title_word_len = []\n",
    "c1_word_len = []\n",
    "c2_word_len = []\n",
    "c3_word_len = []\n",
    "selftext_word_len = []\n",
    "# TODO choose correct method to count words\n",
    "for index, row in df.iterrows():\n",
    "    title_word_len.append(len(row['title'].split()))\n",
    "    c1_word_len.append(sum([x.strip(string.punctuation).isalpha() for x in row['c1'].split()]))\n",
    "    c2_word_len.append(sum([x.strip(string.punctuation).isalpha() for x in row['c2'].split()]))\n",
    "    c3_word_len.append(sum([x.strip(string.punctuation).isalpha() for x in row['c3'].split()]))\n",
    "    selftext_word_len.append(len(row['selftext'].split()))\n",
    "# pretty print\n",
    "print('title max:{} min:{} avg:{}'.format(max(title_word_len), min(title_word_len), sum(title_word_len)/len(title_word_len)))\n",
    "print('c1 max:{} min:{} avg:{}'.format(max(c1_word_len), min(c1_word_len), sum(c1_word_len)/len(c1_word_len)))\n",
    "print('c2 max:{} min:{} avg:{}'.format(max(c2_word_len), min(c2_word_len), sum(c2_word_len)/len(c2_word_len)))\n",
    "print('c3 max:{} min:{} avg:{}'.format(max(c3_word_len), min(c3_word_len), sum(c3_word_len)/len(c3_word_len)))\n",
    "print('selftext max:{} min:{} avg:{}'.format(max(selftext_word_len), min(selftext_word_len), sum(selftext_word_len)/len(selftext_word_len)))"
   ]
  },
  {
   "cell_type": "code",
   "execution_count": null,
   "metadata": {},
   "outputs": [],
   "source": [
    "# Information got:\n",
    "\"\"\"\n",
    "Max number of words in a title ~62\n",
    "This is useful info, but I think a frequency line\n",
    "plot will be much more useful\n",
    "I expect a gaussian result\n",
    "\"\"\"\n",
    "# Information found elsewhere:\n",
    "\"\"\"\n",
    "Reddit has title length limit 300 chars\n",
    "Selftext ~10k-40k\n",
    "comments ~10k\n",
    "\"\"\""
   ]
  },
  {
   "cell_type": "code",
   "execution_count": 108,
   "metadata": {},
   "outputs": [
    {
     "data": {
      "text/plain": [
       "[<matplotlib.lines.Line2D at 0x7f3a98169160>]"
      ]
     },
     "execution_count": 108,
     "metadata": {},
     "output_type": "execute_result"
    },
    {
     "data": {
      "image/png": "[encoded data removed]",
      "text/plain": [
       "<Figure size 432x288 with 1 Axes>"
      ]
     },
     "metadata": {
      "needs_background": "light"
     },
     "output_type": "display_data"
    }
   ],
   "source": [
    "# for title\n",
    "freq_arr_title = [0 for i in range(0, max(title_word_len)+1)]\n",
    "for i in title_word_len:\n",
    "    freq_arr_title[i] += 1\n",
    "plt.xlabel('no of words in title')\n",
    "plt.ylabel('frequency')\n",
    "plt.plot(np.arange(0, max(title_word_len)+1), freq_arr_title)"
   ]
  },
  {
   "cell_type": "code",
   "execution_count": 115,
   "metadata": {},
   "outputs": [
    {
     "data": {
      "text/plain": [
       "[<matplotlib.lines.Line2D at 0x7f3a97f13390>]"
      ]
     },
     "execution_count": 115,
     "metadata": {},
     "output_type": "execute_result"
    },
    {
     "data": {
      "image/png": "[encoded data removed]",
      "text/plain": [
       "<Figure size 432x288 with 1 Axes>"
      ]
     },
     "metadata": {
      "needs_background": "light"
     },
     "output_type": "display_data"
    }
   ],
   "source": [
    "# for selftext\n",
    "freq_arr_selftext = [0 for i in range(0, max(selftext_word_len)+1)]\n",
    "for i in selftext_word_len:\n",
    "    freq_arr_selftext[i] += 1\n",
    "plt.xlabel('no of words in selftext')\n",
    "plt.ylabel('frequency')\n",
    "# lots of selftext with no text influences plot\n",
    "# plt.plot(np.arange(0, max(selftext_word_len)+1), freq_arr_selftext)\n",
    "plt.plot(np.arange(1, max(selftext_word_len)+1), freq_arr_selftext[1:])"
   ]
  },
  {
   "cell_type": "code",
   "execution_count": 114,
   "metadata": {},
   "outputs": [
    {
     "data": {
      "text/plain": [
       "[<matplotlib.lines.Line2D at 0x7f3a97facbe0>]"
      ]
     },
     "execution_count": 114,
     "metadata": {},
     "output_type": "execute_result"
    },
    {
     "data": {
      "image/png": "[encoded data removed]",
      "text/plain": [
       "<Figure size 432x288 with 1 Axes>"
      ]
     },
     "metadata": {
      "needs_background": "light"
     },
     "output_type": "display_data"
    }
   ],
   "source": [
    "# for c1\n",
    "freq_arr_c1 = [0 for i in range(0, max(c1_word_len)+1)]\n",
    "for i in c1_word_len:\n",
    "    freq_arr_c1[i] += 1\n",
    "plt.xlabel('no of words in c1')\n",
    "plt.ylabel('frequency')\n",
    "plt.plot(np.arange(1, max(c1_word_len)+1), freq_arr_c1[1:])"
   ]
  },
  {
   "cell_type": "code",
   "execution_count": 116,
   "metadata": {},
   "outputs": [
    {
     "data": {
      "text/plain": [
       "[<matplotlib.lines.Line2D at 0x7f3a97ee5b38>]"
      ]
     },
     "execution_count": 116,
     "metadata": {},
     "output_type": "execute_result"
    },
    {
     "data": {
      "image/png": "[encoded data removed]",
      "text/plain": [
       "<Figure size 432x288 with 1 Axes>"
      ]
     },
     "metadata": {
      "needs_background": "light"
     },
     "output_type": "display_data"
    }
   ],
   "source": [
    "# for c2\n",
    "freq_arr_c2 = [0 for i in range(0, max(c2_word_len)+1)]\n",
    "for i in c2_word_len:\n",
    "    freq_arr_c2[i] += 1\n",
    "plt.xlabel('no of words in c2')\n",
    "plt.ylabel('frequency')\n",
    "plt.plot(np.arange(1, max(c2_word_len)+1), freq_arr_c2[1:])"
   ]
  },
  {
   "cell_type": "code",
   "execution_count": 117,
   "metadata": {},
   "outputs": [
    {
     "data": {
      "text/plain": [
       "[<matplotlib.lines.Line2D at 0x7f3a97e54898>]"
      ]
     },
     "execution_count": 117,
     "metadata": {},
     "output_type": "execute_result"
    },
    {
     "data": {
      "image/png": "[encoded data removed]",
      "text/plain": [
       "<Figure size 432x288 with 1 Axes>"
      ]
     },
     "metadata": {
      "needs_background": "light"
     },
     "output_type": "display_data"
    }
   ],
   "source": [
    "# for c3\n",
    "freq_arr_c3 = [0 for i in range(0, max(c3_word_len)+1)]\n",
    "for i in c3_word_len:\n",
    "    freq_arr_c3[i] += 1\n",
    "plt.xlabel('no of words in c3')\n",
    "plt.ylabel('frequency')\n",
    "plt.plot(np.arange(1, max(c3_word_len)+1), freq_arr_c3[1:])"
   ]
  },
  {
   "cell_type": "code",
   "execution_count": null,
   "metadata": {},
   "outputs": [],
   "source": [
    "# Information got:\n",
    "\"\"\"\n",
    "1. Title cannot exceed 300 words, and using ~100 words should be enough\n",
    "2. Selftext, comments have lots of null values\n",
    "3. These 4 also contain lots of outliers, exceeding thousands of words\n",
    "\"\"\"\n",
    "# Insights:\n",
    "\"\"\"\n",
    "Need a network that can process ~100-200 words if using only title,\n",
    "if using rest of the cols, need more input capacity\n",
    "\"\"\"\n",
    "# Actions taken:\n",
    "\"\"\"\n",
    "As selftext can be considered part of title, lets check where the\n",
    "concatenation of both stands\n",
    "\"\"\""
   ]
  },
  {
   "cell_type": "code",
   "execution_count": 119,
   "metadata": {},
   "outputs": [
    {
     "data": {
      "text/plain": [
       "[<matplotlib.lines.Line2D at 0x7f3a97d6c3c8>]"
      ]
     },
     "execution_count": 119,
     "metadata": {},
     "output_type": "execute_result"
    },
    {
     "data": {
      "image/png": "[encoded data removed]",
      "text/plain": [
       "<Figure size 432x288 with 1 Axes>"
      ]
     },
     "metadata": {
      "needs_background": "light"
     },
     "output_type": "display_data"
    }
   ],
   "source": [
    "# Testing length for title+selftext\n",
    "title_self_word_len = [sum(x) for x in zip(title_word_len, selftext_word_len)]\n",
    "freq_arr_title_self = [0 for i in range(0, max(title_self_word_len)+1)]\n",
    "for i in title_self_word_len:\n",
    "    freq_arr_title_self[i] += 1\n",
    "plt.xlabel('no of words in title_self')\n",
    "plt.ylabel('frequency')\n",
    "plt.plot(np.arange(1, max(title_self_word_len)+1), freq_arr_title_self[1:])"
   ]
  }
 ],
 "metadata": {
  "kernelspec": {
   "display_name": "Python 3",
   "language": "python",
   "name": "python3"
  },
  "language_info": {
   "codemirror_mode": {
    "name": "ipython",
    "version": 3
   },
   "file_extension": ".py",
   "mimetype": "text/x-python",
   "name": "python",
   "nbconvert_exporter": "python",
   "pygments_lexer": "ipython3",
   "version": "3.7.3"
  }
 },
 "nbformat": 4,
 "nbformat_minor": 2
}
